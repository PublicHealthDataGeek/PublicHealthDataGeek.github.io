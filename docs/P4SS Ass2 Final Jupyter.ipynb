{
 "cells": [
  {
   "cell_type": "markdown",
   "metadata": {},
   "source": [
    "# Programming for Social Sciences - Core Skills\n",
    "## Assignment 2 - The Black Death Outbreak\n",
    "\n",
    "This notebook is for Assessment 2 for the module GEOG5995M Programming for the Social Sciences Core Skills.\n",
    "\n",
    "This code imports historical raster data of the average number of rats caught per week per 100m by 100m square (these cover 8 rat catcher patches) and the average population density per 100m by 100m square for 16 London parishes.  Each value represents a 100m by 100m square area but the figures are averaged at the Parish or Rat Catcher area scale and smoothly distributed between the appropriate individual areas.\n",
    "\n",
    "It provides a visualisation of this data and then calculates an average human deaths per week based on a formula.  These average deaths per week are then visualised and shown in comparison to the other two visualisation.  The total deaths per week are calculated and displayed.  \n",
    "\n",
    "Finally the viewer can run further code that generates a user interafce that allows the user to alter the values in the equation to see the impact on the deaths. \n",
    "\n",
    "Follow the instructions below to run the code.  \n",
    "\n",
    "Date of creation 11th December 2018\n",
    "Version 1.0\n"
   ]
  },
  {
   "cell_type": "markdown",
   "metadata": {},
   "source": [
    "### Getting started\n",
    "\n",
    "Firstly, ensure that you have the two data files downloaded from the website and in the same folder as this notebook.  Then run the below code.  "
   ]
  },
  {
   "cell_type": "code",
   "execution_count": null,
   "metadata": {},
   "outputs": [],
   "source": [
    "# Import the packages required for this program\n",
    "import matplotlib.pyplot as plt  \n",
    "import matplotlib.image as mpimg\n",
    "import numpy as np\n",
    "import csv\n",
    "\n",
    "# Create lists to import the raster data into\n",
    "r_d = []\n",
    "h_pop = []\n",
    "\n",
    "# Import the raster data files\n",
    "f = open('death.rats.txt', newline='') \n",
    "reader = csv.reader(f, quoting=csv.QUOTE_NONNUMERIC)\n",
    "for row in reader:\n",
    "    rats = []\n",
    "    for value in row:             \n",
    "        rats.append(value)  \n",
    "    r_d.append(rats)      \n",
    "f.close() \n",
    "\n",
    "f = open('death.parishes.txt', newline='') \n",
    "reader = csv.reader(f, quoting=csv.QUOTE_NONNUMERIC)\n",
    "for row in reader:\n",
    "    people = []\n",
    "    for value in row:             \n",
    "        people.append(value) \n",
    "    h_pop.append(people)     \n",
    "f.close()\n",
    "\n",
    "# Convert the imported data to numpy arrays\n",
    "rats_caught = np.array(r_d) \n",
    "human_pop = np.array(h_pop)"
   ]
  },
  {
   "cell_type": "markdown",
   "metadata": {},
   "source": [
    "### The map of the number of rats caught\n",
    "\n",
    "Now you can create a map of the rats caught by each rat catchers' patch.  Each pixel represents a 100x100 square.  \n",
    "\n",
    "Run the below code to get the map.  "
   ]
  },
  {
   "cell_type": "code",
   "execution_count": null,
   "metadata": {},
   "outputs": [],
   "source": [
    "# Create a map of the rats caught\n",
    "plt.ylim(0, 400)\n",
    "plt.xlim(0, 400)\n",
    "color_map = plt.imshow(rats_caught)  \n",
    "color_map.set_cmap(\"hot_r\")\n",
    "plt.yticks([])\n",
    "plt.xticks([])\n",
    "plt.ylabel('Patches')\n",
    "plt.title(\"The number of rats caught per week by \\n the 8 Rat Catchers' Patches\")\n",
    "plt.colorbar(orientation='horizontal', shrink=0.5, label=\"Number of rats caught per week\", extend='max')\n",
    "plt.savefig(\"rats.png\", bbox_inches='tight', pad_inches=0.0)\n",
    "plt.show()\n",
    "plt.clf()"
   ]
  },
  {
   "cell_type": "markdown",
   "metadata": {},
   "source": [
    "\n",
    "### The population density map\n",
    "\n",
    "Now create the map showing the population density for each of the 16 London parishes by running the below code. "
   ]
  },
  {
   "cell_type": "code",
   "execution_count": null,
   "metadata": {},
   "outputs": [],
   "source": [
    "# Create a map of the human population density\n",
    "plt.ylim(0, 400)\n",
    "plt.xlim(0, 400)\n",
    "color_map = plt.imshow(human_pop)  \n",
    "color_map.set_cmap(\"Greens\")\n",
    "plt.xticks([])\n",
    "plt.yticks([])\n",
    "plt.title('Human population density in each \\n of the 16 London Parishes')\n",
    "plt.colorbar(orientation='horizontal', shrink=0.5, label=\"Human population density\", extend='max')\n",
    "plt.savefig(\"humanpop.png\", bbox_inches='tight', pad_inches=0.0)\n",
    "plt.show()\n",
    "plt.clf()"
   ]
  },
  {
   "cell_type": "markdown",
   "metadata": {},
   "source": [
    "### Calculating the average number of human deaths per week\n",
    "\n",
    "The average human deaths per week is given as:\n",
    "    d = (0.8 x rats caught) x (1.3 x population density).\n",
    "\n",
    "Run the below code to calculate the average number of human deaths per week and save it as a text file.   "
   ]
  },
  {
   "cell_type": "code",
   "execution_count": 4,
   "metadata": {},
   "outputs": [],
   "source": [
    "# This loop multiple every item in each row by multiple and then moves on to the next row\n",
    "for i in [rats_caught]:\n",
    "    rd2 = i*0.8\n",
    "for i in [human_pop]:\n",
    "    hp2 = i*1.3\n",
    "    \n",
    "average_deaths = np.multiply(rd2, hp2)\n",
    "\n",
    "with open('ave_deaths.txt', \"w\") as f:\n",
    "    writer = csv.writer(f)\n",
    "    writer.writerows(average_deaths)\t    \n",
    "f.close() "
   ]
  },
  {
   "cell_type": "markdown",
   "metadata": {},
   "source": [
    "### A map of the average number of deaths per week\n",
    "\n",
    "You can now create a new map that shows the average deaths per week by running this code. "
   ]
  },
  {
   "cell_type": "code",
   "execution_count": null,
   "metadata": {},
   "outputs": [],
   "source": [
    "# Create a map of the average deaths\n",
    "plt.ylim(0, 400)\n",
    "plt.xlim(0, 400)\n",
    "color_map = plt.imshow(average_deaths)  \n",
    "color_map.set_cmap(\"Reds\")\n",
    "plt.xticks([])\n",
    "plt.yticks([])\n",
    "plt.title('Average deaths per week \\n by geographical location')\n",
    "plt.colorbar(orientation='horizontal', shrink=0.8, label=\"Average deaths per week\", extend='max')    \n",
    "plt.savefig(\"ave_deaths.png\", bbox_inches='tight', pad_inches=0.0)  \n",
    "plt.show()\n",
    "plt.clf()"
   ]
  },
  {
   "cell_type": "markdown",
   "metadata": {},
   "source": [
    "### Comparing the three maps\n",
    "\n",
    "This next section of code generates a comparison of the three maps, although I cannot get them to be identical in size despite trying multiple different ways of coding the information.  "
   ]
  },
  {
   "cell_type": "code",
   "execution_count": null,
   "metadata": {},
   "outputs": [],
   "source": [
    "#Plot all three images together\n",
    "img1 = mpimg.imread('rats.png')\n",
    "img2 = mpimg.imread('humanpop.png')\n",
    "img3 = mpimg.imread('ave_deaths.png')\n",
    "fig = plt.figure(figsize=(12,8), dpi=100)\n",
    "fig.suptitle('Comparing the three maps', y=0.8, verticalalignment='bottom', fontsize = 16)\n",
    "ax1 = plt.subplot(1,3,1)\n",
    "plt.axis('off')\n",
    "ax1.imshow(img1)\n",
    "ax2 = plt.subplot(1,3,2)\n",
    "plt.axis('off')\n",
    "ax2.imshow(img2) \n",
    "ax3 = plt.subplot(1,3,3)\n",
    "plt.axis('off')\n",
    "ax3.imshow(img3) \n",
    "plt.show()"
   ]
  },
  {
   "cell_type": "markdown",
   "metadata": {},
   "source": [
    "### Calculating the total number of deaths\n",
    "\n",
    "Calculate the total number of deaths per week by using this code.  The answer will be displayed below.  "
   ]
  },
  {
   "cell_type": "code",
   "execution_count": null,
   "metadata": {},
   "outputs": [],
   "source": [
    "# Calculating the total number of deaths over the 16 parishes\n",
    "total_deaths = np.sum(average_deaths)\n",
    "print(\"The total number of deaths over the 16 parishes per week is \" + str(int(round(total_deaths,None))))"
   ]
  },
  {
   "cell_type": "markdown",
   "metadata": {},
   "source": [
    "### Enabling the user to change the parameters of the equation\n",
    "\n",
    "The next bit of code creates a popup GUI that allows the user to enter values for the number of rats caught and the human population and then calculates the average number of deaths based on the equation:\n",
    "    d = (0.8 x rats caught) x (1.3 x population density).\n",
    "\n",
    "It then allows the user to change the values '0.8' and '1.3' to other values and recalculate the average number of deaths. "
   ]
  },
  {
   "cell_type": "code",
   "execution_count": null,
   "metadata": {},
   "outputs": [],
   "source": [
    "# Import the relevent packages for this program\n",
    "import sys\n",
    "from PyQt5.QtWidgets import QApplication, QMainWindow, QPushButton, QLineEdit, QMessageBox, QLabel\n",
    "\n",
    "# Create a class for the GUI\n",
    "class Window(QMainWindow):\n",
    "    def __init__(self):\n",
    "        super().__init__()\n",
    "        self.title = 'Altering the parameters'\n",
    "        self.left = 200\n",
    "        self.top = 200\n",
    "        self.width = 500\n",
    "        self.height = 600\n",
    "        self.InitUI()\n",
    "\n",
    "## Create the structure within the GUI including the text, text boxes and call the relevent methods\n",
    "    def InitUI(self):\n",
    "        self.label1 = QLabel(self)\n",
    "        self.label1.setText('Average deaths = (0.8 x rats caught) x (1.2 x population density)')\n",
    "        self.label1.resize(400,30)\n",
    "        self.label1.move(20,10)\n",
    "        \n",
    "        self.lineedit1 = QLineEdit(self)\n",
    "        self.lineedit1.setPlaceholderText('Please enter the average number of rats caught')\n",
    "        self.lineedit1.setGeometry(50,50,320,30)\n",
    "        \n",
    "        self.lineedit2 = QLineEdit(self)\n",
    "        self.lineedit2.setPlaceholderText('Please enter the population density')\n",
    "                                          \n",
    "        self.lineedit2.setGeometry(50,90,320,30)\n",
    "        \n",
    "        self.button = QPushButton(\"Calculate the average deaths\", self)    \n",
    "        self.button.setGeometry(50,150,320,50)\n",
    "        self.button.clicked.connect(self.CalcAveDeaths)\n",
    "        \n",
    "        self.label2 = QLabel(self)\n",
    "        self.label2.setText('Average deaths = (? x rats caught) x (? x population density)')                         \n",
    "        self.label2.resize(300,30)\n",
    "        self.label2.move(20,260)\n",
    "        \n",
    "        self.lineedit3 = QLineEdit(self)\n",
    "        self.lineedit3.setPlaceholderText('Please enter the multipler of the  average number of rats caught')                                        \n",
    "        self.lineedit3.setGeometry(50,300,320,30)\n",
    "        \n",
    "        self.lineedit4 = QLineEdit(self)\n",
    "        self.lineedit4.setPlaceholderText('Please enter the multiplier for the population density')\n",
    "        self.lineedit4.setGeometry(50,350,320,30)\n",
    "        \n",
    "        self.button2 = QPushButton(\"Recalculate the average deaths based on these new values\", self)                                   \n",
    "        self.button2.setGeometry(50,400,320,50)\n",
    "        self.button2.clicked.connect(self.ReCalcAveDeaths)\n",
    "    \n",
    "        self.setWindowTitle(self.title)\n",
    "        self.setGeometry(self.top, self.left, self.width, self.height)\n",
    "        self.show()\n",
    "\n",
    "## Create the calculations underpining the GUI and show the results       \n",
    "    def CalcAveDeaths(self):\n",
    "        num1 = float(self.lineedit1.text())\n",
    "        num2 = float(self.lineedit2.text())\n",
    "        average_deaths = \"{0:.1f}\".format((0.8*num1) * (1.3*num2))\n",
    "        average_deaths_string = \"The average number of deaths per week is \" + str(average_deaths)   \n",
    "        QMessageBox.about(self, 'Average deaths', average_deaths_string)\n",
    "\n",
    "    def ReCalcAveDeaths(self):\n",
    "        num1 = float(self.lineedit1.text())\n",
    "        num2 = float(self.lineedit2.text())\n",
    "        num3 = float(self.lineedit3.text())\n",
    "        num4 = float(self.lineedit4.text())\n",
    "        average_deaths2 = \"{0:.1f}\".format((num3*num1) * (num4*num2))\n",
    "        average_deaths2_string = \"The new average number of deaths per week is \" + str(average_deaths2)       \n",
    "        QMessageBox.about(self, 'New average deaths', average_deaths2_string)\n",
    "\n",
    "# Make application loop and exit\n",
    "App = QApplication(sys.argv)\n",
    "window = Window()\n",
    "sys.exit(App.exec())"
   ]
  },
  {
   "cell_type": "markdown",
   "metadata": {},
   "source": [
    "### Final thoughts\n",
    "This is the end of the program.  I hope it works well for you.  If not then download the python code from my GitHub.  "
   ]
  },
  {
   "cell_type": "code",
   "execution_count": null,
   "metadata": {},
   "outputs": [],
   "source": []
  }
 ],
 "metadata": {
  "kernelspec": {
   "display_name": "Python 3",
   "language": "python",
   "name": "python3"
  },
  "language_info": {
   "codemirror_mode": {
    "name": "ipython",
    "version": 3
   },
   "file_extension": ".py",
   "mimetype": "text/x-python",
   "name": "python",
   "nbconvert_exporter": "python",
   "pygments_lexer": "ipython3",
   "version": "3.6.6"
  }
 },
 "nbformat": 4,
 "nbformat_minor": 2
}
