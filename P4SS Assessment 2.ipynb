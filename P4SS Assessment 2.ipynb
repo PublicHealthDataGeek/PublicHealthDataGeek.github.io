{
 "cells": [
  {
   "cell_type": "markdown",
   "metadata": {},
   "source": [
    "\n",
    "The Black Death\n",
    "\n",
    "Imagine that you are an epidemiologist looking back at the Black Death outbreak in 1665. You want to calculate the total deaths from the disease using historical figures of rat populations (recorded by the local rat catchers) and the population density (derived from the parish records).\n",
    "\n",
    "You know from small scale studies that the relationship between average rats caught per week per 100m x 100m square(r), average population density per 100m x 100m square(p) and average deaths per week per 100m x 100m square(d) is...\n",
    "\n",
    "d = (0.8 x r) x (1.3 x p)\n",
    "\n",
    "You have files containing a raster map of average population densities per 100m x 100m square for 16 square parishes in London. You also have an area map of average rats caught per week per 100m x 100m square for each rat catcher's area of work. These are stored as text digits. One value represents a 100m x 100m square area, but the figures are averaged at the Parish or Rat Catcher area scale and then smoothly distributed between the appropriate individual areas.\n",
    "\n",
    "Write a Jupyter Notebook that does the following.\n",
    "\n",
    "    Pulls in the two maps and puts them on the screen. Each pixel will represent a 100m x 100m square area.\n",
    "\n",
    "    Calculates a map showing average deaths per 100m x 100m square area for the different geographical regions produced by the intersection of the two images.\n",
    "\n",
    "    I.e. run through the maps and pull out the values for each pair of equivalently positioned cells. Put them through the equation above to produce a two dimensional array of absolute deaths that you can convert into an Image mapping the deaths.\n",
    "\n",
    "    Displays the three maps.\n",
    "\n",
    "    Saves the death map as a text file of absolute deaths. Each line should equal a line on the map.\n",
    "\n",
    "    Displays the total deaths per week.\n",
    "    Allows the user to change the parameter weights for the equation (for example with a scrollbar).\n",
    "\n",
    "Files for this project.\n",
    "\n",
    "2 x (400 by 400) raster maps with blocks of consistant average values in them. One represents average rats caught for that area per and the other represents the average population density for the area.\n",
    "\n",
    "    death.parishes (GIF version for comparison - this should not be used in the project.)\n",
    "    death.rats (GIF version for comparison - this should not be used in the project.)\n",
    "\n",
    "The blocks are not the same in the two files. One represents parishes, the other the domains of the rat catchers. The information for both are stored as text numbers. Each number represents a 100 x 100m area. The values are laid out from the upper left to lower right of the raster image, with each line being a line of the rasters.\n"
   ]
  },
  {
   "cell_type": "markdown",
   "metadata": {},
   "source": [
    "google jupyter galleries - look at ipython notebook page --> can then look at others code.  \n",
    "https://www.youtube.com/watch?v=YYXdXT2l-Gg&list=PL-osiE80TeTt2d9bfVyTiXJA-UTHn6WwU - these are realy good youtube videos on python etc"
   ]
  },
  {
   "cell_type": "code",
   "execution_count": null,
   "metadata": {},
   "outputs": [],
   "source": []
  }
 ],
 "metadata": {
  "kernelspec": {
   "display_name": "Python 3",
   "language": "python",
   "name": "python3"
  },
  "language_info": {
   "codemirror_mode": {
    "name": "ipython",
    "version": 3
   },
   "file_extension": ".py",
   "mimetype": "text/x-python",
   "name": "python",
   "nbconvert_exporter": "python",
   "pygments_lexer": "ipython3",
   "version": "3.7.0"
  }
 },
 "nbformat": 4,
 "nbformat_minor": 2
}
